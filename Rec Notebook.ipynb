{
 "cells": [
  {
   "cell_type": "code",
   "execution_count": 1,
   "metadata": {},
   "outputs": [],
   "source": [
    "# Learning how to create Recommendation Systems, different algorithms\n",
    "# and test/train strategies using a basic data set and examples"
   ]
  },
  {
   "cell_type": "code",
   "execution_count": 2,
   "metadata": {},
   "outputs": [],
   "source": [
    "import numpy as np\n",
    "import pandas as pd"
   ]
  },
  {
   "cell_type": "code",
   "execution_count": 25,
   "metadata": {},
   "outputs": [],
   "source": [
    "# Let number of users be 3 and movies be 5\n",
    "n_users = 3\n",
    "n_movies = 5\n",
    "\n",
    "# Dataset is n_users x n_movies (row x col)\n",
    "dataset  = np.zeros((n_users, n_movies))\n",
    "\n",
    "# Because this is for learning, lets create the users and movies we want\n",
    "# User 0 enjoys Comedy/Drama, User 1 enjoys Drama/Action, User 2 enjoys Action\n",
    "# Movie 0 is Comedy, Movie 1 is Drama, Movie 2 is Comedy, Movie 3 is Action, Movie 4 is Drama\n",
    "# Based on the above we'll add a few scores\n",
    "dataset[0,1] = 4\n",
    "dataset[0,4] = 5\n",
    "dataset[1,1] = 5\n",
    "dataset[1,2] = 2\n",
    "dataset[2,0] = 1\n",
    "dataset[2,2] = 2"
   ]
  },
  {
   "cell_type": "code",
   "execution_count": 26,
   "metadata": {},
   "outputs": [
    {
     "name": "stdout",
     "output_type": "stream",
     "text": [
      "[[0. 4. 0. 0. 5.]\n",
      " [0. 5. 2. 0. 0.]\n",
      " [1. 0. 2. 0. 0.]]\n"
     ]
    }
   ],
   "source": [
    "print(dataset)"
   ]
  },
  {
   "cell_type": "code",
   "execution_count": null,
   "metadata": {},
   "outputs": [],
   "source": [
    "# Test/Train split"
   ]
  }
 ],
 "metadata": {
  "kernelspec": {
   "display_name": "Python 3",
   "language": "python",
   "name": "python3"
  },
  "language_info": {
   "codemirror_mode": {
    "name": "ipython",
    "version": 3
   },
   "file_extension": ".py",
   "mimetype": "text/x-python",
   "name": "python",
   "nbconvert_exporter": "python",
   "pygments_lexer": "ipython3",
   "version": "3.7.1"
  }
 },
 "nbformat": 4,
 "nbformat_minor": 2
}
